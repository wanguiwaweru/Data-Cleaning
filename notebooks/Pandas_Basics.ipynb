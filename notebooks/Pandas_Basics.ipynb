{
  "cells": [
    {
      "cell_type": "code",
      "execution_count": 1,
      "metadata": {
        "colab": {
          "base_uri": "https://localhost:8080/"
        },
        "id": "MpdhSQepn7NL",
        "outputId": "47860f8d-8d56-4777-e6dc-cb1f8933890e"
      },
      "outputs": [
        {
          "name": "stdout",
          "output_type": "stream",
          "text": [
            "0    1\n",
            "1    4\n",
            "2    5\n",
            "3    8\n",
            "4    9\n",
            "5    3\n",
            "dtype: int64\n"
          ]
        }
      ],
      "source": [
        "import pandas as pd\n",
        "my_list = [1,4,5,8,9,3]\n",
        "series_A = pd.Series(my_list)\n",
        "print(series_A)"
      ]
    },
    {
      "cell_type": "code",
      "execution_count": 2,
      "metadata": {
        "colab": {
          "base_uri": "https://localhost:8080/"
        },
        "id": "YQIiIa775qhq",
        "outputId": "cc2eef97-4069-4ee3-d049-259b82a44a70"
      },
      "outputs": [
        {
          "name": "stdout",
          "output_type": "stream",
          "text": [
            "one       Jane\n",
            "two        Tom\n",
            "three    Kamau\n",
            "dtype: object\n"
          ]
        }
      ],
      "source": [
        "my_dict ={'one':'Jane','two':'Tom','three':'Kamau'} \n",
        "series_dict = pd.Series(my_dict)\n",
        "print(series_dict)"
      ]
    },
    {
      "cell_type": "code",
      "execution_count": 3,
      "metadata": {
        "colab": {
          "base_uri": "https://localhost:8080/"
        },
        "id": "egWa79Q37e0m",
        "outputId": "1535f81b-5b77-4945-9e3d-db4792545437"
      },
      "outputs": [
        {
          "name": "stdout",
          "output_type": "stream",
          "text": [
            "    ID FirstName LastName\n",
            "1  101     Julia    Johns\n",
            "2  102   Jessica  Watkins\n",
            "3  103    Amanda     Elis\n"
          ]
        }
      ],
      "source": [
        "patient_details = [[101,'Julia','Johns'],\n",
        "[102,'Jessica','Watkins'],\n",
        "[103,'Amanda','Elis']]\n",
        "patient_dataframe = pd.DataFrame(patient_details,columns=['ID','FirstName','LastName'],index=[1,2,3])\n",
        "print(patient_dataframe)"
      ]
    },
    {
      "cell_type": "code",
      "execution_count": 4,
      "metadata": {
        "colab": {
          "base_uri": "https://localhost:8080/"
        },
        "id": "nzj2fPmjAoSs",
        "outputId": "68cd5a84-67d0-4e57-d79f-4c748a616895"
      },
      "outputs": [
        {
          "name": "stdout",
          "output_type": "stream",
          "text": [
            "    Name  Age       Major\n",
            "0   Kris   27  Statistics\n",
            "1   Kate   24  Accounting\n",
            "2    Gao   22   Economics\n",
            "3  Anita   32    Telecoms\n"
          ]
        }
      ],
      "source": [
        "data = {'Name':['Kris', 'Kate', 'Gao', 'Anita'],\n",
        "        'Age':[27, 24, 22, 32],\n",
        "        'Major':['Statistics', 'Accounting', 'Economics', 'Telecoms']}\n",
        "df = pd.DataFrame(data)\n",
        "print(df)"
      ]
    },
    {
      "cell_type": "code",
      "execution_count": 5,
      "metadata": {
        "colab": {
          "base_uri": "https://localhost:8080/"
        },
        "id": "r_qo_orGC7x2",
        "outputId": "09840cda-b415-4970-a3a9-eb3c47bf707b"
      },
      "outputs": [
        {
          "data": {
            "text/plain": [
              "Name     object\n",
              "Age       int64\n",
              "Major    object\n",
              "dtype: object"
            ]
          },
          "execution_count": 5,
          "metadata": {},
          "output_type": "execute_result"
        }
      ],
      "source": [
        "df.dtypes"
      ]
    },
    {
      "cell_type": "code",
      "execution_count": 6,
      "metadata": {
        "colab": {
          "base_uri": "https://localhost:8080/"
        },
        "id": "l-aoPpDrD8Ky",
        "outputId": "a1f35ca8-fc18-489c-f546-4957b517d72d"
      },
      "outputs": [
        {
          "data": {
            "text/plain": [
              "Name           Kate\n",
              "Age              24\n",
              "Major    Accounting\n",
              "Name: 1, dtype: object"
            ]
          },
          "execution_count": 6,
          "metadata": {},
          "output_type": "execute_result"
        }
      ],
      "source": [
        "df.iloc[1]"
      ]
    },
    {
      "cell_type": "code",
      "execution_count": 7,
      "metadata": {
        "colab": {
          "base_uri": "https://localhost:8080/",
          "height": 35
        },
        "id": "2bRLmazMGkKa",
        "outputId": "6d81881d-cb60-40d8-adba-c60d31ca8440"
      },
      "outputs": [
        {
          "data": {
            "text/plain": [
              "'Accounting'"
            ]
          },
          "execution_count": 7,
          "metadata": {},
          "output_type": "execute_result"
        }
      ],
      "source": [
        "df.iloc[1,2]"
      ]
    },
    {
      "cell_type": "code",
      "execution_count": 8,
      "metadata": {
        "colab": {
          "base_uri": "https://localhost:8080/"
        },
        "id": "pwdSUFZMHNIU",
        "outputId": "bbe3033d-8767-45a2-a056-251770c6ef10"
      },
      "outputs": [
        {
          "data": {
            "text/plain": [
              "0    27\n",
              "1    24\n",
              "2    22\n",
              "Name: Age, dtype: int64"
            ]
          },
          "execution_count": 8,
          "metadata": {},
          "output_type": "execute_result"
        }
      ],
      "source": [
        "df.iloc[:3,1]"
      ]
    },
    {
      "cell_type": "code",
      "execution_count": 9,
      "metadata": {
        "colab": {
          "base_uri": "https://localhost:8080/",
          "height": 143
        },
        "id": "32oKepLOIYsB",
        "outputId": "6f10e83e-d089-4183-bc78-10bb76d79cff"
      },
      "outputs": [
        {
          "data": {
            "text/html": [
              "<div>\n",
              "<style scoped>\n",
              "    .dataframe tbody tr th:only-of-type {\n",
              "        vertical-align: middle;\n",
              "    }\n",
              "\n",
              "    .dataframe tbody tr th {\n",
              "        vertical-align: top;\n",
              "    }\n",
              "\n",
              "    .dataframe thead th {\n",
              "        text-align: right;\n",
              "    }\n",
              "</style>\n",
              "<table border=\"1\" class=\"dataframe\">\n",
              "  <thead>\n",
              "    <tr style=\"text-align: right;\">\n",
              "      <th></th>\n",
              "      <th>Name</th>\n",
              "      <th>Age</th>\n",
              "    </tr>\n",
              "  </thead>\n",
              "  <tbody>\n",
              "    <tr>\n",
              "      <th>0</th>\n",
              "      <td>Kris</td>\n",
              "      <td>27</td>\n",
              "    </tr>\n",
              "    <tr>\n",
              "      <th>1</th>\n",
              "      <td>Kate</td>\n",
              "      <td>24</td>\n",
              "    </tr>\n",
              "    <tr>\n",
              "      <th>2</th>\n",
              "      <td>Gao</td>\n",
              "      <td>22</td>\n",
              "    </tr>\n",
              "  </tbody>\n",
              "</table>\n",
              "</div>"
            ],
            "text/plain": [
              "   Name  Age\n",
              "0  Kris   27\n",
              "1  Kate   24\n",
              "2   Gao   22"
            ]
          },
          "execution_count": 9,
          "metadata": {},
          "output_type": "execute_result"
        }
      ],
      "source": [
        "df.loc[0:2,['Name','Age']]"
      ]
    },
    {
      "cell_type": "code",
      "execution_count": 10,
      "metadata": {
        "colab": {
          "base_uri": "https://localhost:8080/"
        },
        "id": "Ro-OlJnTKYhg",
        "outputId": "577fea6b-b8bf-4061-a772-c8f35fb0ffbd"
      },
      "outputs": [
        {
          "data": {
            "text/plain": [
              "0     Kris\n",
              "1     Kate\n",
              "2      Gao\n",
              "3    Anita\n",
              "Name: Name, dtype: object"
            ]
          },
          "execution_count": 10,
          "metadata": {},
          "output_type": "execute_result"
        }
      ],
      "source": [
        "df.Name"
      ]
    },
    {
      "cell_type": "code",
      "execution_count": 11,
      "metadata": {
        "colab": {
          "base_uri": "https://localhost:8080/",
          "height": 175
        },
        "id": "b8Smw7F2KXZr",
        "outputId": "640144cf-1e91-4f4a-9501-de7b30061d2f"
      },
      "outputs": [
        {
          "data": {
            "text/html": [
              "<div>\n",
              "<style scoped>\n",
              "    .dataframe tbody tr th:only-of-type {\n",
              "        vertical-align: middle;\n",
              "    }\n",
              "\n",
              "    .dataframe tbody tr th {\n",
              "        vertical-align: top;\n",
              "    }\n",
              "\n",
              "    .dataframe thead th {\n",
              "        text-align: right;\n",
              "    }\n",
              "</style>\n",
              "<table border=\"1\" class=\"dataframe\">\n",
              "  <thead>\n",
              "    <tr style=\"text-align: right;\">\n",
              "      <th></th>\n",
              "      <th>Age</th>\n",
              "      <th>Major</th>\n",
              "    </tr>\n",
              "  </thead>\n",
              "  <tbody>\n",
              "    <tr>\n",
              "      <th>0</th>\n",
              "      <td>27</td>\n",
              "      <td>Statistics</td>\n",
              "    </tr>\n",
              "    <tr>\n",
              "      <th>1</th>\n",
              "      <td>24</td>\n",
              "      <td>Accounting</td>\n",
              "    </tr>\n",
              "    <tr>\n",
              "      <th>2</th>\n",
              "      <td>22</td>\n",
              "      <td>Economics</td>\n",
              "    </tr>\n",
              "    <tr>\n",
              "      <th>3</th>\n",
              "      <td>32</td>\n",
              "      <td>Telecoms</td>\n",
              "    </tr>\n",
              "  </tbody>\n",
              "</table>\n",
              "</div>"
            ],
            "text/plain": [
              "   Age       Major\n",
              "0   27  Statistics\n",
              "1   24  Accounting\n",
              "2   22   Economics\n",
              "3   32    Telecoms"
            ]
          },
          "execution_count": 11,
          "metadata": {},
          "output_type": "execute_result"
        }
      ],
      "source": [
        "df[['Age','Major']]"
      ]
    },
    {
      "cell_type": "code",
      "execution_count": 12,
      "metadata": {
        "colab": {
          "base_uri": "https://localhost:8080/"
        },
        "id": "iJ7zwUBjKm9u",
        "outputId": "8e20efdb-29d1-4f4e-b184-a82dfafc4058"
      },
      "outputs": [
        {
          "data": {
            "text/plain": [
              "0     True\n",
              "1    False\n",
              "2    False\n",
              "3    False\n",
              "Name: Age, dtype: bool"
            ]
          },
          "execution_count": 12,
          "metadata": {},
          "output_type": "execute_result"
        }
      ],
      "source": [
        "df.Age == 27"
      ]
    },
    {
      "cell_type": "code",
      "execution_count": 13,
      "metadata": {
        "colab": {
          "base_uri": "https://localhost:8080/",
          "height": 175
        },
        "id": "hQdDtN2bLS4e",
        "outputId": "86553b58-a7e3-4f86-9016-ab6a97e10bb5"
      },
      "outputs": [
        {
          "data": {
            "text/html": [
              "<div>\n",
              "<style scoped>\n",
              "    .dataframe tbody tr th:only-of-type {\n",
              "        vertical-align: middle;\n",
              "    }\n",
              "\n",
              "    .dataframe tbody tr th {\n",
              "        vertical-align: top;\n",
              "    }\n",
              "\n",
              "    .dataframe thead th {\n",
              "        text-align: right;\n",
              "    }\n",
              "</style>\n",
              "<table border=\"1\" class=\"dataframe\">\n",
              "  <thead>\n",
              "    <tr style=\"text-align: right;\">\n",
              "      <th></th>\n",
              "      <th>Name</th>\n",
              "      <th>Age</th>\n",
              "      <th>Major</th>\n",
              "    </tr>\n",
              "  </thead>\n",
              "  <tbody>\n",
              "    <tr>\n",
              "      <th>0</th>\n",
              "      <td>Kamau</td>\n",
              "      <td>27</td>\n",
              "      <td>Statistics</td>\n",
              "    </tr>\n",
              "    <tr>\n",
              "      <th>1</th>\n",
              "      <td>Kamau</td>\n",
              "      <td>24</td>\n",
              "      <td>Accounting</td>\n",
              "    </tr>\n",
              "    <tr>\n",
              "      <th>2</th>\n",
              "      <td>Kamau</td>\n",
              "      <td>22</td>\n",
              "      <td>Economics</td>\n",
              "    </tr>\n",
              "    <tr>\n",
              "      <th>3</th>\n",
              "      <td>Kamau</td>\n",
              "      <td>32</td>\n",
              "      <td>Telecoms</td>\n",
              "    </tr>\n",
              "  </tbody>\n",
              "</table>\n",
              "</div>"
            ],
            "text/plain": [
              "    Name  Age       Major\n",
              "0  Kamau   27  Statistics\n",
              "1  Kamau   24  Accounting\n",
              "2  Kamau   22   Economics\n",
              "3  Kamau   32    Telecoms"
            ]
          },
          "execution_count": 13,
          "metadata": {},
          "output_type": "execute_result"
        }
      ],
      "source": [
        "df.Name= 'Kamau'\n",
        "df"
      ]
    },
    {
      "cell_type": "code",
      "execution_count": 14,
      "metadata": {
        "colab": {
          "base_uri": "https://localhost:8080/",
          "height": 424
        },
        "id": "Wt5zB3a5Mj-K",
        "outputId": "b3090acc-9e7a-4403-e4da-10e8032e3294"
      },
      "outputs": [
        {
          "data": {
            "text/html": [
              "<div>\n",
              "<style scoped>\n",
              "    .dataframe tbody tr th:only-of-type {\n",
              "        vertical-align: middle;\n",
              "    }\n",
              "\n",
              "    .dataframe tbody tr th {\n",
              "        vertical-align: top;\n",
              "    }\n",
              "\n",
              "    .dataframe thead th {\n",
              "        text-align: right;\n",
              "    }\n",
              "</style>\n",
              "<table border=\"1\" class=\"dataframe\">\n",
              "  <thead>\n",
              "    <tr style=\"text-align: right;\">\n",
              "      <th></th>\n",
              "      <th>land_area</th>\n",
              "      <th>percent_city</th>\n",
              "      <th>percent_senior</th>\n",
              "      <th>physicians</th>\n",
              "      <th>hospital_beds</th>\n",
              "      <th>graduates</th>\n",
              "      <th>work_force</th>\n",
              "      <th>income</th>\n",
              "      <th>region</th>\n",
              "      <th>crime_rate</th>\n",
              "    </tr>\n",
              "  </thead>\n",
              "  <tbody>\n",
              "    <tr>\n",
              "      <th>0</th>\n",
              "      <td>1384</td>\n",
              "      <td>78.1</td>\n",
              "      <td>12.3</td>\n",
              "      <td>25627</td>\n",
              "      <td>69678</td>\n",
              "      <td>50.1</td>\n",
              "      <td>4083.9</td>\n",
              "      <td>72100</td>\n",
              "      <td>1</td>\n",
              "      <td>75.55</td>\n",
              "    </tr>\n",
              "    <tr>\n",
              "      <th>1</th>\n",
              "      <td>3719</td>\n",
              "      <td>43.9</td>\n",
              "      <td>9.4</td>\n",
              "      <td>13326</td>\n",
              "      <td>43292</td>\n",
              "      <td>53.9</td>\n",
              "      <td>3305.9</td>\n",
              "      <td>54542</td>\n",
              "      <td>2</td>\n",
              "      <td>56.03</td>\n",
              "    </tr>\n",
              "    <tr>\n",
              "      <th>2</th>\n",
              "      <td>3553</td>\n",
              "      <td>37.4</td>\n",
              "      <td>10.7</td>\n",
              "      <td>9724</td>\n",
              "      <td>33731</td>\n",
              "      <td>50.6</td>\n",
              "      <td>2066.3</td>\n",
              "      <td>33216</td>\n",
              "      <td>1</td>\n",
              "      <td>41.32</td>\n",
              "    </tr>\n",
              "    <tr>\n",
              "      <th>3</th>\n",
              "      <td>3916</td>\n",
              "      <td>29.9</td>\n",
              "      <td>8.8</td>\n",
              "      <td>6402</td>\n",
              "      <td>24167</td>\n",
              "      <td>52.2</td>\n",
              "      <td>1966.7</td>\n",
              "      <td>32906</td>\n",
              "      <td>2</td>\n",
              "      <td>67.38</td>\n",
              "    </tr>\n",
              "    <tr>\n",
              "      <th>4</th>\n",
              "      <td>2480</td>\n",
              "      <td>31.5</td>\n",
              "      <td>10.5</td>\n",
              "      <td>8502</td>\n",
              "      <td>16751</td>\n",
              "      <td>66.1</td>\n",
              "      <td>1514.5</td>\n",
              "      <td>26573</td>\n",
              "      <td>4</td>\n",
              "      <td>80.19</td>\n",
              "    </tr>\n",
              "    <tr>\n",
              "      <th>...</th>\n",
              "      <td>...</td>\n",
              "      <td>...</td>\n",
              "      <td>...</td>\n",
              "      <td>...</td>\n",
              "      <td>...</td>\n",
              "      <td>...</td>\n",
              "      <td>...</td>\n",
              "      <td>...</td>\n",
              "      <td>...</td>\n",
              "      <td>...</td>\n",
              "    </tr>\n",
              "    <tr>\n",
              "      <th>94</th>\n",
              "      <td>1511</td>\n",
              "      <td>38.7</td>\n",
              "      <td>10.7</td>\n",
              "      <td>348</td>\n",
              "      <td>1093</td>\n",
              "      <td>50.4</td>\n",
              "      <td>127.2</td>\n",
              "      <td>1452</td>\n",
              "      <td>4</td>\n",
              "      <td>70.66</td>\n",
              "    </tr>\n",
              "    <tr>\n",
              "      <th>95</th>\n",
              "      <td>1543</td>\n",
              "      <td>39.6</td>\n",
              "      <td>8.1</td>\n",
              "      <td>159</td>\n",
              "      <td>481</td>\n",
              "      <td>30.3</td>\n",
              "      <td>80.6</td>\n",
              "      <td>769</td>\n",
              "      <td>3</td>\n",
              "      <td>36.36</td>\n",
              "    </tr>\n",
              "    <tr>\n",
              "      <th>96</th>\n",
              "      <td>1011</td>\n",
              "      <td>37.8</td>\n",
              "      <td>10.5</td>\n",
              "      <td>264</td>\n",
              "      <td>964</td>\n",
              "      <td>70.7</td>\n",
              "      <td>93.2</td>\n",
              "      <td>1337</td>\n",
              "      <td>3</td>\n",
              "      <td>60.16</td>\n",
              "    </tr>\n",
              "    <tr>\n",
              "      <th>97</th>\n",
              "      <td>813</td>\n",
              "      <td>13.4</td>\n",
              "      <td>10.9</td>\n",
              "      <td>371</td>\n",
              "      <td>4355</td>\n",
              "      <td>58.0</td>\n",
              "      <td>97.0</td>\n",
              "      <td>1589</td>\n",
              "      <td>1</td>\n",
              "      <td>36.33</td>\n",
              "    </tr>\n",
              "    <tr>\n",
              "      <th>98</th>\n",
              "      <td>654</td>\n",
              "      <td>28.8</td>\n",
              "      <td>3.9</td>\n",
              "      <td>140</td>\n",
              "      <td>1296</td>\n",
              "      <td>55.1</td>\n",
              "      <td>66.9</td>\n",
              "      <td>1148</td>\n",
              "      <td>3</td>\n",
              "      <td>68.76</td>\n",
              "    </tr>\n",
              "  </tbody>\n",
              "</table>\n",
              "<p>99 rows × 10 columns</p>\n",
              "</div>"
            ],
            "text/plain": [
              "    land_area  percent_city  percent_senior  physicians  hospital_beds  \\\n",
              "0        1384          78.1            12.3       25627          69678   \n",
              "1        3719          43.9             9.4       13326          43292   \n",
              "2        3553          37.4            10.7        9724          33731   \n",
              "3        3916          29.9             8.8        6402          24167   \n",
              "4        2480          31.5            10.5        8502          16751   \n",
              "..        ...           ...             ...         ...            ...   \n",
              "94       1511          38.7            10.7         348           1093   \n",
              "95       1543          39.6             8.1         159            481   \n",
              "96       1011          37.8            10.5         264            964   \n",
              "97        813          13.4            10.9         371           4355   \n",
              "98        654          28.8             3.9         140           1296   \n",
              "\n",
              "    graduates  work_force  income  region  crime_rate  \n",
              "0        50.1      4083.9   72100       1       75.55  \n",
              "1        53.9      3305.9   54542       2       56.03  \n",
              "2        50.6      2066.3   33216       1       41.32  \n",
              "3        52.2      1966.7   32906       2       67.38  \n",
              "4        66.1      1514.5   26573       4       80.19  \n",
              "..        ...         ...     ...     ...         ...  \n",
              "94       50.4       127.2    1452       4       70.66  \n",
              "95       30.3        80.6     769       3       36.36  \n",
              "96       70.7        93.2    1337       3       60.16  \n",
              "97       58.0        97.0    1589       1       36.33  \n",
              "98       55.1        66.9    1148       3       68.76  \n",
              "\n",
              "[99 rows x 10 columns]"
            ]
          },
          "execution_count": 14,
          "metadata": {},
          "output_type": "execute_result"
        }
      ],
      "source": [
        "df2 = pd.read_csv(\"https://raw.githubusercontent.com/dphi-official/Datasets/master/Standard_Metropolitan_Areas_Data-data.csv\")\n",
        "df2"
      ]
    },
    {
      "cell_type": "code",
      "execution_count": 15,
      "metadata": {
        "colab": {
          "base_uri": "https://localhost:8080/",
          "height": 206
        },
        "id": "6AjxcKZwQfJn",
        "outputId": "75be54c8-a4bc-4d1f-f865-6cf6f94990ee"
      },
      "outputs": [
        {
          "data": {
            "text/html": [
              "<div>\n",
              "<style scoped>\n",
              "    .dataframe tbody tr th:only-of-type {\n",
              "        vertical-align: middle;\n",
              "    }\n",
              "\n",
              "    .dataframe tbody tr th {\n",
              "        vertical-align: top;\n",
              "    }\n",
              "\n",
              "    .dataframe thead th {\n",
              "        text-align: right;\n",
              "    }\n",
              "</style>\n",
              "<table border=\"1\" class=\"dataframe\">\n",
              "  <thead>\n",
              "    <tr style=\"text-align: right;\">\n",
              "      <th></th>\n",
              "      <th>land_area</th>\n",
              "      <th>percent_city</th>\n",
              "      <th>percent_senior</th>\n",
              "      <th>physicians</th>\n",
              "      <th>hospital_beds</th>\n",
              "      <th>graduates</th>\n",
              "      <th>work_force</th>\n",
              "      <th>income</th>\n",
              "      <th>region</th>\n",
              "      <th>crime_rate</th>\n",
              "    </tr>\n",
              "  </thead>\n",
              "  <tbody>\n",
              "    <tr>\n",
              "      <th>0</th>\n",
              "      <td>1384</td>\n",
              "      <td>78.1</td>\n",
              "      <td>12.3</td>\n",
              "      <td>25627</td>\n",
              "      <td>69678</td>\n",
              "      <td>50.1</td>\n",
              "      <td>4083.9</td>\n",
              "      <td>72100</td>\n",
              "      <td>1</td>\n",
              "      <td>75.55</td>\n",
              "    </tr>\n",
              "    <tr>\n",
              "      <th>1</th>\n",
              "      <td>3719</td>\n",
              "      <td>43.9</td>\n",
              "      <td>9.4</td>\n",
              "      <td>13326</td>\n",
              "      <td>43292</td>\n",
              "      <td>53.9</td>\n",
              "      <td>3305.9</td>\n",
              "      <td>54542</td>\n",
              "      <td>2</td>\n",
              "      <td>56.03</td>\n",
              "    </tr>\n",
              "    <tr>\n",
              "      <th>2</th>\n",
              "      <td>3553</td>\n",
              "      <td>37.4</td>\n",
              "      <td>10.7</td>\n",
              "      <td>9724</td>\n",
              "      <td>33731</td>\n",
              "      <td>50.6</td>\n",
              "      <td>2066.3</td>\n",
              "      <td>33216</td>\n",
              "      <td>1</td>\n",
              "      <td>41.32</td>\n",
              "    </tr>\n",
              "    <tr>\n",
              "      <th>3</th>\n",
              "      <td>3916</td>\n",
              "      <td>29.9</td>\n",
              "      <td>8.8</td>\n",
              "      <td>6402</td>\n",
              "      <td>24167</td>\n",
              "      <td>52.2</td>\n",
              "      <td>1966.7</td>\n",
              "      <td>32906</td>\n",
              "      <td>2</td>\n",
              "      <td>67.38</td>\n",
              "    </tr>\n",
              "    <tr>\n",
              "      <th>4</th>\n",
              "      <td>2480</td>\n",
              "      <td>31.5</td>\n",
              "      <td>10.5</td>\n",
              "      <td>8502</td>\n",
              "      <td>16751</td>\n",
              "      <td>66.1</td>\n",
              "      <td>1514.5</td>\n",
              "      <td>26573</td>\n",
              "      <td>4</td>\n",
              "      <td>80.19</td>\n",
              "    </tr>\n",
              "  </tbody>\n",
              "</table>\n",
              "</div>"
            ],
            "text/plain": [
              "   land_area  percent_city  percent_senior  physicians  hospital_beds  \\\n",
              "0       1384          78.1            12.3       25627          69678   \n",
              "1       3719          43.9             9.4       13326          43292   \n",
              "2       3553          37.4            10.7        9724          33731   \n",
              "3       3916          29.9             8.8        6402          24167   \n",
              "4       2480          31.5            10.5        8502          16751   \n",
              "\n",
              "   graduates  work_force  income  region  crime_rate  \n",
              "0       50.1      4083.9   72100       1       75.55  \n",
              "1       53.9      3305.9   54542       2       56.03  \n",
              "2       50.6      2066.3   33216       1       41.32  \n",
              "3       52.2      1966.7   32906       2       67.38  \n",
              "4       66.1      1514.5   26573       4       80.19  "
            ]
          },
          "execution_count": 15,
          "metadata": {},
          "output_type": "execute_result"
        }
      ],
      "source": [
        "df2.head()"
      ]
    },
    {
      "cell_type": "code",
      "execution_count": 16,
      "metadata": {
        "colab": {
          "base_uri": "https://localhost:8080/",
          "height": 206
        },
        "id": "vQtZFWq4QgnO",
        "outputId": "044d03c0-413e-407d-e840-d3a81bd774df"
      },
      "outputs": [
        {
          "data": {
            "text/html": [
              "<div>\n",
              "<style scoped>\n",
              "    .dataframe tbody tr th:only-of-type {\n",
              "        vertical-align: middle;\n",
              "    }\n",
              "\n",
              "    .dataframe tbody tr th {\n",
              "        vertical-align: top;\n",
              "    }\n",
              "\n",
              "    .dataframe thead th {\n",
              "        text-align: right;\n",
              "    }\n",
              "</style>\n",
              "<table border=\"1\" class=\"dataframe\">\n",
              "  <thead>\n",
              "    <tr style=\"text-align: right;\">\n",
              "      <th></th>\n",
              "      <th>land_area</th>\n",
              "      <th>percent_city</th>\n",
              "      <th>percent_senior</th>\n",
              "      <th>physicians</th>\n",
              "      <th>hospital_beds</th>\n",
              "      <th>graduates</th>\n",
              "      <th>work_force</th>\n",
              "      <th>income</th>\n",
              "      <th>region</th>\n",
              "      <th>crime_rate</th>\n",
              "    </tr>\n",
              "  </thead>\n",
              "  <tbody>\n",
              "    <tr>\n",
              "      <th>94</th>\n",
              "      <td>1511</td>\n",
              "      <td>38.7</td>\n",
              "      <td>10.7</td>\n",
              "      <td>348</td>\n",
              "      <td>1093</td>\n",
              "      <td>50.4</td>\n",
              "      <td>127.2</td>\n",
              "      <td>1452</td>\n",
              "      <td>4</td>\n",
              "      <td>70.66</td>\n",
              "    </tr>\n",
              "    <tr>\n",
              "      <th>95</th>\n",
              "      <td>1543</td>\n",
              "      <td>39.6</td>\n",
              "      <td>8.1</td>\n",
              "      <td>159</td>\n",
              "      <td>481</td>\n",
              "      <td>30.3</td>\n",
              "      <td>80.6</td>\n",
              "      <td>769</td>\n",
              "      <td>3</td>\n",
              "      <td>36.36</td>\n",
              "    </tr>\n",
              "    <tr>\n",
              "      <th>96</th>\n",
              "      <td>1011</td>\n",
              "      <td>37.8</td>\n",
              "      <td>10.5</td>\n",
              "      <td>264</td>\n",
              "      <td>964</td>\n",
              "      <td>70.7</td>\n",
              "      <td>93.2</td>\n",
              "      <td>1337</td>\n",
              "      <td>3</td>\n",
              "      <td>60.16</td>\n",
              "    </tr>\n",
              "    <tr>\n",
              "      <th>97</th>\n",
              "      <td>813</td>\n",
              "      <td>13.4</td>\n",
              "      <td>10.9</td>\n",
              "      <td>371</td>\n",
              "      <td>4355</td>\n",
              "      <td>58.0</td>\n",
              "      <td>97.0</td>\n",
              "      <td>1589</td>\n",
              "      <td>1</td>\n",
              "      <td>36.33</td>\n",
              "    </tr>\n",
              "    <tr>\n",
              "      <th>98</th>\n",
              "      <td>654</td>\n",
              "      <td>28.8</td>\n",
              "      <td>3.9</td>\n",
              "      <td>140</td>\n",
              "      <td>1296</td>\n",
              "      <td>55.1</td>\n",
              "      <td>66.9</td>\n",
              "      <td>1148</td>\n",
              "      <td>3</td>\n",
              "      <td>68.76</td>\n",
              "    </tr>\n",
              "  </tbody>\n",
              "</table>\n",
              "</div>"
            ],
            "text/plain": [
              "    land_area  percent_city  percent_senior  physicians  hospital_beds  \\\n",
              "94       1511          38.7            10.7         348           1093   \n",
              "95       1543          39.6             8.1         159            481   \n",
              "96       1011          37.8            10.5         264            964   \n",
              "97        813          13.4            10.9         371           4355   \n",
              "98        654          28.8             3.9         140           1296   \n",
              "\n",
              "    graduates  work_force  income  region  crime_rate  \n",
              "94       50.4       127.2    1452       4       70.66  \n",
              "95       30.3        80.6     769       3       36.36  \n",
              "96       70.7        93.2    1337       3       60.16  \n",
              "97       58.0        97.0    1589       1       36.33  \n",
              "98       55.1        66.9    1148       3       68.76  "
            ]
          },
          "execution_count": 16,
          "metadata": {},
          "output_type": "execute_result"
        }
      ],
      "source": [
        "df2.tail()"
      ]
    },
    {
      "cell_type": "code",
      "execution_count": 17,
      "metadata": {
        "colab": {
          "base_uri": "https://localhost:8080/"
        },
        "id": "lNE9ut1WTVBI",
        "outputId": "4e7b08ca-fd66-4196-fa7c-9efaaf171495"
      },
      "outputs": [
        {
          "name": "stdout",
          "output_type": "stream",
          "text": [
            "<class 'pandas.core.frame.DataFrame'>\n",
            "RangeIndex: 99 entries, 0 to 98\n",
            "Data columns (total 10 columns):\n",
            " #   Column          Non-Null Count  Dtype  \n",
            "---  ------          --------------  -----  \n",
            " 0   land_area       99 non-null     int64  \n",
            " 1   percent_city    99 non-null     float64\n",
            " 2   percent_senior  99 non-null     float64\n",
            " 3   physicians      99 non-null     int64  \n",
            " 4   hospital_beds   99 non-null     int64  \n",
            " 5   graduates       99 non-null     float64\n",
            " 6   work_force      99 non-null     float64\n",
            " 7   income          99 non-null     int64  \n",
            " 8   region          99 non-null     int64  \n",
            " 9   crime_rate      99 non-null     float64\n",
            "dtypes: float64(5), int64(5)\n",
            "memory usage: 7.9 KB\n"
          ]
        }
      ],
      "source": [
        "df2.info()"
      ]
    },
    {
      "cell_type": "code",
      "execution_count": 18,
      "metadata": {
        "colab": {
          "base_uri": "https://localhost:8080/"
        },
        "id": "8sfIxJOUWdfY",
        "outputId": "ca50da5b-d269-41e8-f4df-bf9b7aa5c09f"
      },
      "outputs": [
        {
          "data": {
            "text/plain": [
              "land_area         2615.727273\n",
              "percent_city        42.518182\n",
              "percent_senior       9.781818\n",
              "physicians        1828.333333\n",
              "hospital_beds     6345.868687\n",
              "graduates           54.463636\n",
              "work_force         449.366667\n",
              "income            6762.505051\n",
              "region               2.494949\n",
              "crime_rate          55.643030\n",
              "dtype: float64"
            ]
          },
          "execution_count": 18,
          "metadata": {},
          "output_type": "execute_result"
        }
      ],
      "source": [
        "df2.mean()"
      ]
    },
    {
      "cell_type": "code",
      "execution_count": 19,
      "metadata": {
        "colab": {
          "base_uri": "https://localhost:8080/"
        },
        "id": "fhveaVljYViq",
        "outputId": "eb8cb75c-7037-4177-ab0b-cc2b483547fd"
      },
      "outputs": [
        {
          "data": {
            "text/plain": [
              "land_area         1951.00\n",
              "percent_city        39.50\n",
              "percent_senior       9.70\n",
              "physicians         774.00\n",
              "hospital_beds     3472.00\n",
              "graduates           54.00\n",
              "work_force         257.20\n",
              "income            3510.00\n",
              "region               3.00\n",
              "crime_rate          56.06\n",
              "dtype: float64"
            ]
          },
          "execution_count": 19,
          "metadata": {},
          "output_type": "execute_result"
        }
      ],
      "source": [
        "df2.median()"
      ]
    },
    {
      "cell_type": "code",
      "execution_count": 20,
      "metadata": {
        "colab": {
          "base_uri": "https://localhost:8080/"
        },
        "id": "N9blQ7drYxMl",
        "outputId": "8986afa4-f70d-4033-ff7c-e5b0f075e32d"
      },
      "outputs": [
        {
          "data": {
            "text/plain": [
              "land_area  percent_city  percent_senior  physicians  hospital_beds  graduates  work_force  income  region  crime_rate\n",
              "47         41.9          11.9            745         3352           36.3       258.9       3915    1       51.70         1\n",
              "2966       26.9          10.3            2053        6604           56.3       450.4       6966    1       56.55         1\n",
              "2766       67.9          7.7             679         3873           56.3       224.0       2598    3       63.22         1\n",
              "2737       45.0          10.5            602         1462           71.3       131.4       1980    4       63.44         1\n",
              "2710       63.7          6.2             357         1277           72.8       110.9       1639    4       63.10         1\n",
              "                                                                                                                        ..\n",
              "1490       33.1          11.9            827         3818           47.4       300.2       4144    1       30.59         1\n",
              "1489       58.8          9.5             911         5720           56.5       175.1       2264    3       70.55         1\n",
              "1465       30.3          6.8             598         6456           50.6       164.7       2201    3       70.66         1\n",
              "1456       46.7          10.4            2484        8555           56.8       710.4       10104   2       44.64         1\n",
              "27293      25.3          12.3            2018        6323           57.4       510.6       7399    4       76.03         1\n",
              "Length: 99, dtype: int64"
            ]
          },
          "execution_count": 20,
          "metadata": {},
          "output_type": "execute_result"
        }
      ],
      "source": [
        "df2.value_counts()"
      ]
    },
    {
      "cell_type": "code",
      "execution_count": 21,
      "metadata": {
        "colab": {
          "base_uri": "https://localhost:8080/"
        },
        "id": "cKwV03BVY0Hs",
        "outputId": "9ab725d9-3228-4fdb-f1e3-5b55087416e7"
      },
      "outputs": [
        {
          "data": {
            "text/plain": [
              "array([27, 24, 22, 32], dtype=int64)"
            ]
          },
          "execution_count": 21,
          "metadata": {},
          "output_type": "execute_result"
        }
      ],
      "source": [
        "df.Age.unique()"
      ]
    },
    {
      "cell_type": "code",
      "execution_count": null,
      "metadata": {
        "id": "uw_taJasdxTS"
      },
      "outputs": [],
      "source": []
    }
  ],
  "metadata": {
    "colab": {
      "provenance": []
    },
    "kernelspec": {
      "display_name": "Python 3",
      "name": "python3"
    },
    "language_info": {
      "codemirror_mode": {
        "name": "ipython",
        "version": 3
      },
      "file_extension": ".py",
      "mimetype": "text/x-python",
      "name": "python",
      "nbconvert_exporter": "python",
      "pygments_lexer": "ipython3",
      "version": "3.9.9"
    }
  },
  "nbformat": 4,
  "nbformat_minor": 0
}
