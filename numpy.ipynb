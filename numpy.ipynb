{
  "cells": [
    {
      "cell_type": "code",
      "execution_count": 1,
      "metadata": {
        "id": "LRlHiC_dLFcX"
      },
      "outputs": [],
      "source": [
        "import numpy as np\n",
        "array_A = np.array([[2,4,6], [1,3,5]])\n"
      ]
    },
    {
      "cell_type": "code",
      "execution_count": 2,
      "metadata": {
        "colab": {
          "base_uri": "https://localhost:8080/"
        },
        "id": "t8Fko7jcX04n",
        "outputId": "2789fd27-8667-4ada-a953-a7d4db71eec2"
      },
      "outputs": [
        {
          "data": {
            "text/plain": [
              "array([24, 35, 46, 57, 68])"
            ]
          },
          "execution_count": 2,
          "metadata": {},
          "output_type": "execute_result"
        }
      ],
      "source": [
        "import numpy as np\n",
        "a = np.array([20,30,40,50,60])\n",
        "b = np.array([4,5,6,7,8])\n",
        "np.add(a, b)"
      ]
    },
    {
      "cell_type": "code",
      "execution_count": null,
      "metadata": {
        "id": "hXLBlprkla8P"
      },
      "outputs": [],
      "source": []
    },
    {
      "cell_type": "code",
      "execution_count": 3,
      "metadata": {
        "colab": {
          "base_uri": "https://localhost:8080/"
        },
        "id": "iDZ2BG_BZZNO",
        "outputId": "5264d6de-2ec8-48eb-93a3-2b1879303a6c"
      },
      "outputs": [
        {
          "name": "stdout",
          "output_type": "stream",
          "text": [
            "[24 35 46 57 68]\n",
            "<class 'numpy.ndarray'>\n"
          ]
        }
      ],
      "source": [
        "import numpy as np\n",
        "a = np.array([20,30,40,50,60])\n",
        "b = np.array([4,5,6,7,8])\n",
        "c = a+b\n",
        "print(c)\n",
        "print(type(c))\n"
      ]
    },
    {
      "cell_type": "code",
      "execution_count": 4,
      "metadata": {
        "colab": {
          "base_uri": "https://localhost:8080/"
        },
        "id": "Zi6VnFdAaoYl",
        "outputId": "e7a83272-876f-494c-b42a-feec2ad58ff9"
      },
      "outputs": [
        {
          "name": "stdout",
          "output_type": "stream",
          "text": [
            "The max is [2 4 6]\n",
            "The min is 1\n"
          ]
        }
      ],
      "source": [
        "print('The max is' ,array_A.max(axis=0))\n",
        "print('The min is' ,array_A.min())"
      ]
    },
    {
      "cell_type": "code",
      "execution_count": 5,
      "metadata": {
        "colab": {
          "base_uri": "https://localhost:8080/"
        },
        "id": "5xDnWlLeaox1",
        "outputId": "0b33263b-a153-43d8-a31b-e3b274f6d778"
      },
      "outputs": [
        {
          "name": "stdout",
          "output_type": "stream",
          "text": [
            "[16 -2 34 43 52]\n"
          ]
        }
      ],
      "source": [
        "import numpy as np\n",
        "a = np.array([20,3,40,50,60])\n",
        "b = np.array([4,5,6,7,8])\n",
        "c = a-b\n",
        "print(c)\n"
      ]
    },
    {
      "cell_type": "code",
      "execution_count": 6,
      "metadata": {
        "colab": {
          "base_uri": "https://localhost:8080/"
        },
        "id": "V4HsdxpGsB6k",
        "outputId": "eda5da8d-fa42-48ae-9320-7f6f6f24e5f7"
      },
      "outputs": [
        {
          "data": {
            "text/plain": [
              "array([2, 4, 6, 1, 3, 5])"
            ]
          },
          "execution_count": 6,
          "metadata": {},
          "output_type": "execute_result"
        }
      ],
      "source": [
        "array_A.ravel()\n"
      ]
    },
    {
      "cell_type": "code",
      "execution_count": 7,
      "metadata": {
        "colab": {
          "base_uri": "https://localhost:8080/"
        },
        "id": "YDbaptTWbDop",
        "outputId": "b08e00be-9b1b-4dd8-b281-4df4d4f50c8d"
      },
      "outputs": [
        {
          "name": "stdout",
          "output_type": "stream",
          "text": [
            "[ 80 150 240 350 480]\n",
            "[ 80 150 240 350 480]\n"
          ]
        }
      ],
      "source": [
        "import numpy as np\n",
        "a = np.array([20,30,40,50,60])\n",
        "b = np.array([4,5,6,7,8])\n",
        "print(np.multiply(b, a))\n",
        "print(a*b)"
      ]
    },
    {
      "cell_type": "code",
      "execution_count": 8,
      "metadata": {
        "colab": {
          "base_uri": "https://localhost:8080/"
        },
        "id": "tuQUqTEXckCu",
        "outputId": "a4fdaf6f-444b-4152-8385-5109f8ae2b6f"
      },
      "outputs": [
        {
          "name": "stdout",
          "output_type": "stream",
          "text": [
            "[5.         6.         6.66666667 7.14285714 7.5       ]\n",
            "[5.         6.         6.66666667 7.14285714 7.5       ]\n"
          ]
        }
      ],
      "source": [
        "import numpy as np\n",
        "a = np.array([20,30,40,50,60])\n",
        "b = np.array([4,5,6,7,8])\n",
        "print(np.divide(a, b))\n",
        "print(a/b)"
      ]
    },
    {
      "cell_type": "code",
      "execution_count": 9,
      "metadata": {
        "colab": {
          "base_uri": "https://localhost:8080/"
        },
        "id": "Q4Pz1VGidoO2",
        "outputId": "aa4d76f9-a028-48b3-d1d8-9ea01696a2e4"
      },
      "outputs": [
        {
          "name": "stdout",
          "output_type": "stream",
          "text": [
            "[2 3 1 1 0]\n",
            "[2 3 1 1 0]\n"
          ]
        }
      ],
      "source": [
        "import numpy as np\n",
        "a = np.array([2,3,4,5,6])\n",
        "b = np.array([5,4,3,2,1])\n",
        "print(np.mod(a, b))\n",
        "print(np.remainder(a,b))\n"
      ]
    },
    {
      "cell_type": "code",
      "execution_count": 10,
      "metadata": {
        "colab": {
          "base_uri": "https://localhost:8080/"
        },
        "id": "4geJVLRnLWIL",
        "outputId": "81d78b48-f8ad-484d-8da4-b7f05557682b"
      },
      "outputs": [
        {
          "name": "stdout",
          "output_type": "stream",
          "text": [
            "The max is 9\n",
            "The min is 5\n"
          ]
        }
      ],
      "source": [
        "array_x = np.array([5,6,7,8,9])\n",
        "print('The max is' ,array_x.max())\n",
        "print('The min is' ,array_x.min())"
      ]
    },
    {
      "cell_type": "code",
      "execution_count": 11,
      "metadata": {
        "colab": {
          "base_uri": "https://localhost:8080/"
        },
        "id": "2v8jNHcffZDJ",
        "outputId": "4f5fa868-beb4-49a9-de24-f43fab7ad4cc"
      },
      "outputs": [
        {
          "name": "stdout",
          "output_type": "stream",
          "text": [
            "[0.4        0.28571429 0.23255814 0.18518519 0.15384615]\n"
          ]
        }
      ],
      "source": [
        "import numpy as np\n",
        "a = np.array([2.5,3.5 ,4.3,5.4,6.5])\n",
        "print(np.reciprocal(a))"
      ]
    },
    {
      "cell_type": "code",
      "execution_count": 12,
      "metadata": {
        "colab": {
          "base_uri": "https://localhost:8080/"
        },
        "id": "cG8PCGdShneR",
        "outputId": "94acd5e9-3992-4efb-8a13-3afff46ab6f4"
      },
      "outputs": [
        {
          "name": "stdout",
          "output_type": "stream",
          "text": [
            "The sum is  22.200000000000003\n",
            "The mean is  4.44\n",
            "The average is  4.44\n",
            "The variance is  1.9664000000000001\n"
          ]
        }
      ],
      "source": [
        "import numpy as np\n",
        "a = np.array([2.5,3.5 ,4.3,5.4,6.5])\n",
        "print('The sum is ', np.sum(a))\n",
        "print('The mean is ', np.mean(a))\n",
        "print('The average is ', np.average(a))\n",
        "print('The variance is ', np.var(a))\n"
      ]
    },
    {
      "cell_type": "code",
      "execution_count": 13,
      "metadata": {
        "colab": {
          "base_uri": "https://localhost:8080/"
        },
        "id": "LIUzmNw9U1J1",
        "outputId": "2977e75a-490f-4d24-b5e7-ac2884d6d7ef"
      },
      "outputs": [
        {
          "data": {
            "text/plain": [
              "array([ 1.  ,  3.25,  5.5 ,  7.75, 10.  ])"
            ]
          },
          "execution_count": 13,
          "metadata": {},
          "output_type": "execute_result"
        }
      ],
      "source": [
        "arr1 = np.linspace(1,10,5)\n",
        "arr1"
      ]
    },
    {
      "cell_type": "code",
      "execution_count": 14,
      "metadata": {
        "colab": {
          "base_uri": "https://localhost:8080/"
        },
        "id": "324-YPTkLe3h",
        "outputId": "a15d7b1e-fc2f-40c5-d1c0-d77f238c90a5"
      },
      "outputs": [
        {
          "data": {
            "text/plain": [
              "array([5, 6, 7, 8, 9])"
            ]
          },
          "execution_count": 14,
          "metadata": {},
          "output_type": "execute_result"
        }
      ],
      "source": [
        "array_x"
      ]
    },
    {
      "cell_type": "code",
      "execution_count": 15,
      "metadata": {
        "colab": {
          "base_uri": "https://localhost:8080/"
        },
        "id": "REevICsYLg-n",
        "outputId": "017af4bc-388c-4295-8a80-d78eb10a373f"
      },
      "outputs": [
        {
          "data": {
            "text/plain": [
              "5"
            ]
          },
          "execution_count": 15,
          "metadata": {},
          "output_type": "execute_result"
        }
      ],
      "source": [
        "array_x[0]"
      ]
    },
    {
      "cell_type": "code",
      "execution_count": 16,
      "metadata": {
        "colab": {
          "base_uri": "https://localhost:8080/"
        },
        "id": "dVVqDbBtLkVn",
        "outputId": "0ccad779-93d6-48a8-b45d-9f71fd0d628c"
      },
      "outputs": [
        {
          "data": {
            "text/plain": [
              "array([5, 6, 7])"
            ]
          },
          "execution_count": 16,
          "metadata": {},
          "output_type": "execute_result"
        }
      ],
      "source": [
        "array_x[:3]"
      ]
    },
    {
      "cell_type": "code",
      "execution_count": 17,
      "metadata": {
        "colab": {
          "base_uri": "https://localhost:8080/"
        },
        "id": "0yjjQEg-Lplj",
        "outputId": "71319482-1f97-40bf-c531-1e6ba1d05a1c"
      },
      "outputs": [
        {
          "data": {
            "text/plain": [
              "array([8, 9])"
            ]
          },
          "execution_count": 17,
          "metadata": {},
          "output_type": "execute_result"
        }
      ],
      "source": [
        "array_x[3:]"
      ]
    },
    {
      "cell_type": "code",
      "execution_count": 18,
      "metadata": {
        "colab": {
          "base_uri": "https://localhost:8080/"
        },
        "id": "4zeO8lxlLtrm",
        "outputId": "47d6bf3a-6a9a-45ff-d323-fa30b97328d8"
      },
      "outputs": [
        {
          "data": {
            "text/plain": [
              "array([5, 7])"
            ]
          },
          "execution_count": 18,
          "metadata": {},
          "output_type": "execute_result"
        }
      ],
      "source": [
        "array_x[0:-1:2]"
      ]
    },
    {
      "cell_type": "code",
      "execution_count": 19,
      "metadata": {
        "colab": {
          "base_uri": "https://localhost:8080/",
          "height": 165
        },
        "id": "9SbZMWxmL3d3",
        "outputId": "c3a12f48-18ce-403f-c9a5-0c78b6e11a80"
      },
      "outputs": [
        {
          "data": {
            "text/plain": [
              "array([[2, 4, 6],\n",
              "       [1, 3, 5]])"
            ]
          },
          "execution_count": 19,
          "metadata": {},
          "output_type": "execute_result"
        }
      ],
      "source": [
        "array_A"
      ]
    },
    {
      "cell_type": "code",
      "execution_count": 20,
      "metadata": {
        "colab": {
          "base_uri": "https://localhost:8080/"
        },
        "id": "KjB_8uiBOMWJ",
        "outputId": "5b132ec3-7498-484f-ef39-ad42e1b320d6"
      },
      "outputs": [
        {
          "data": {
            "text/plain": [
              "2"
            ]
          },
          "execution_count": 20,
          "metadata": {},
          "output_type": "execute_result"
        }
      ],
      "source": [
        "\n",
        "array_A[0,0]\n"
      ]
    },
    {
      "cell_type": "code",
      "execution_count": 21,
      "metadata": {
        "colab": {
          "base_uri": "https://localhost:8080/"
        },
        "id": "iFkeQTx2OO34",
        "outputId": "9890307d-dad1-433b-fac9-3bd140702e4e"
      },
      "outputs": [
        {
          "data": {
            "text/plain": [
              "3"
            ]
          },
          "execution_count": 21,
          "metadata": {},
          "output_type": "execute_result"
        }
      ],
      "source": [
        "array_A[1, 1]"
      ]
    },
    {
      "cell_type": "code",
      "execution_count": 22,
      "metadata": {
        "colab": {
          "base_uri": "https://localhost:8080/"
        },
        "id": "i0yp2bZnOaCr",
        "outputId": "a33ab253-816e-4bcd-c3bc-fae81d031bb5"
      },
      "outputs": [
        {
          "data": {
            "text/plain": [
              "array([5, 6, 7, 8, 9, 1])"
            ]
          },
          "execution_count": 22,
          "metadata": {},
          "output_type": "execute_result"
        }
      ],
      "source": [
        "array1 = np.append(array_x, 1)\n",
        "array1"
      ]
    },
    {
      "cell_type": "code",
      "execution_count": 23,
      "metadata": {
        "colab": {
          "base_uri": "https://localhost:8080/"
        },
        "id": "MD0h95ovaYtK",
        "outputId": "13294d45-906a-4a84-c4ae-ebac20fcc84a"
      },
      "outputs": [
        {
          "data": {
            "text/plain": [
              "array([5, 6, 8, 9, 1])"
            ]
          },
          "execution_count": 23,
          "metadata": {},
          "output_type": "execute_result"
        }
      ],
      "source": [
        "array2= np.delete(array1,2)\n",
        "array2"
      ]
    },
    {
      "cell_type": "code",
      "execution_count": 24,
      "metadata": {
        "colab": {
          "base_uri": "https://localhost:8080/"
        },
        "id": "R7B5ov1RdxDa",
        "outputId": "85d0490c-a541-49bd-f9bf-3af3ca7d8cb9"
      },
      "outputs": [
        {
          "data": {
            "text/plain": [
              "array([1, 5, 6, 8, 9])"
            ]
          },
          "execution_count": 24,
          "metadata": {},
          "output_type": "execute_result"
        }
      ],
      "source": [
        "array3 = np.sort(array2)\n",
        "array3"
      ]
    },
    {
      "cell_type": "code",
      "execution_count": 25,
      "metadata": {
        "colab": {
          "base_uri": "https://localhost:8080/"
        },
        "id": "gOslgZ6BiBN_",
        "outputId": "5c1b0c9d-c776-4b8d-b1b1-0361e49557fe"
      },
      "outputs": [
        {
          "data": {
            "text/plain": [
              "array([[2, 4],\n",
              "       [6, 1],\n",
              "       [3, 5]])"
            ]
          },
          "execution_count": 25,
          "metadata": {},
          "output_type": "execute_result"
        }
      ],
      "source": [
        "arr2 = np.reshape(array_A,(3,2))\n",
        "arr2"
      ]
    },
    {
      "cell_type": "code",
      "execution_count": 26,
      "metadata": {
        "colab": {
          "base_uri": "https://localhost:8080/"
        },
        "id": "c4A_9G_ylk4G",
        "outputId": "fd455409-5145-475a-ccb9-98a7ff3ec804"
      },
      "outputs": [
        {
          "data": {
            "text/plain": [
              "array([[3, 3, 3, 3, 3, 3],\n",
              "       [3, 3, 3, 3, 3, 3],\n",
              "       [3, 3, 3, 3, 3, 3],\n",
              "       [3, 3, 3, 3, 3, 3],\n",
              "       [3, 3, 3, 3, 3, 3]])"
            ]
          },
          "execution_count": 26,
          "metadata": {},
          "output_type": "execute_result"
        }
      ],
      "source": [
        "arr_ful = np.full(shape=(5,6), fill_value=3)\n",
        "arr_ful"
      ]
    },
    {
      "cell_type": "code",
      "execution_count": 27,
      "metadata": {
        "colab": {
          "base_uri": "https://localhost:8080/"
        },
        "id": "5cHVVqx4en8E",
        "outputId": "63bc53d5-c3a3-4deb-888c-c841e437d81e"
      },
      "outputs": [
        {
          "data": {
            "text/plain": [
              "array([2, 4, 6, 1, 3, 5])"
            ]
          },
          "execution_count": 27,
          "metadata": {},
          "output_type": "execute_result"
        }
      ],
      "source": [
        "arr2.flatten()"
      ]
    },
    {
      "cell_type": "code",
      "execution_count": null,
      "metadata": {
        "id": "XxWCEcQBmwKm"
      },
      "outputs": [],
      "source": []
    }
  ],
  "metadata": {
    "colab": {
      "provenance": []
    },
    "kernelspec": {
      "display_name": "Python 3",
      "name": "python3"
    },
    "language_info": {
      "codemirror_mode": {
        "name": "ipython",
        "version": 3
      },
      "file_extension": ".py",
      "mimetype": "text/x-python",
      "name": "python",
      "nbconvert_exporter": "python",
      "pygments_lexer": "ipython3",
      "version": "3.9.9"
    }
  },
  "nbformat": 4,
  "nbformat_minor": 0
}
